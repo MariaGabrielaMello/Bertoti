{
  "cells": [
    {
      "cell_type": "code",
      "execution_count": 1,
      "metadata": {
        "colab": {
          "base_uri": "https://localhost:8080/"
        },
        "collapsed": true,
        "id": "d74zbe4OecNd",
        "outputId": "dd0c2c5e-fbcd-4401-8bde-417bd4fe99fc"
      },
      "outputs": [
        {
          "name": "stdout",
          "output_type": "stream",
          "text": [
            "Collecting python-telegram-bot\n",
            "  Downloading python_telegram_bot-21.2-py3-none-any.whl (629 kB)\n",
            "\u001b[?25l     \u001b[90m━━━━━━━━━━━━━━━━━━━━━━━━━━━━━━━━━━━━━━━━\u001b[0m \u001b[32m0.0/629.7 kB\u001b[0m \u001b[31m?\u001b[0m eta \u001b[36m-:--:--\u001b[0m\r\u001b[2K     \u001b[91m━━━━\u001b[0m\u001b[91m╸\u001b[0m\u001b[90m━━━━━━━━━━━━━━━━━━━━━━━━━━━━━━━━━━━\u001b[0m \u001b[32m71.7/629.7 kB\u001b[0m \u001b[31m2.1 MB/s\u001b[0m eta \u001b[36m0:00:01\u001b[0m\r\u001b[2K     \u001b[91m━━━━━━━━━━━━━━━━━━━━━━━━━━━━━━━━━━━━━━━\u001b[0m\u001b[91m╸\u001b[0m \u001b[32m624.6/629.7 kB\u001b[0m \u001b[31m9.1 MB/s\u001b[0m eta \u001b[36m0:00:01\u001b[0m\r\u001b[2K     \u001b[90m━━━━━━━━━━━━━━━━━━━━━━━━━━━━━━━━━━━━━━━━\u001b[0m \u001b[32m629.7/629.7 kB\u001b[0m \u001b[31m6.9 MB/s\u001b[0m eta \u001b[36m0:00:00\u001b[0m\n",
            "\u001b[?25hCollecting wikipedia\n",
            "  Downloading wikipedia-1.4.0.tar.gz (27 kB)\n",
            "  Preparing metadata (setup.py) ... \u001b[?25l\u001b[?25hdone\n",
            "Requirement already satisfied: scikit-learn in /usr/local/lib/python3.10/dist-packages (1.2.2)\n",
            "Collecting pyngrok\n",
            "  Downloading pyngrok-7.1.6-py3-none-any.whl (22 kB)\n",
            "Collecting httpx~=0.27 (from python-telegram-bot)\n",
            "  Downloading httpx-0.27.0-py3-none-any.whl (75 kB)\n",
            "\u001b[2K     \u001b[90m━━━━━━━━━━━━━━━━━━━━━━━━━━━━━━━━━━━━━━━━\u001b[0m \u001b[32m75.6/75.6 kB\u001b[0m \u001b[31m5.4 MB/s\u001b[0m eta \u001b[36m0:00:00\u001b[0m\n",
            "\u001b[?25hRequirement already satisfied: beautifulsoup4 in /usr/local/lib/python3.10/dist-packages (from wikipedia) (4.12.3)\n",
            "Requirement already satisfied: requests<3.0.0,>=2.0.0 in /usr/local/lib/python3.10/dist-packages (from wikipedia) (2.31.0)\n",
            "Requirement already satisfied: numpy>=1.17.3 in /usr/local/lib/python3.10/dist-packages (from scikit-learn) (1.25.2)\n",
            "Requirement already satisfied: scipy>=1.3.2 in /usr/local/lib/python3.10/dist-packages (from scikit-learn) (1.11.4)\n",
            "Requirement already satisfied: joblib>=1.1.1 in /usr/local/lib/python3.10/dist-packages (from scikit-learn) (1.4.2)\n",
            "Requirement already satisfied: threadpoolctl>=2.0.0 in /usr/local/lib/python3.10/dist-packages (from scikit-learn) (3.5.0)\n",
            "Requirement already satisfied: PyYAML>=5.1 in /usr/local/lib/python3.10/dist-packages (from pyngrok) (6.0.1)\n",
            "Requirement already satisfied: anyio in /usr/local/lib/python3.10/dist-packages (from httpx~=0.27->python-telegram-bot) (3.7.1)\n",
            "Requirement already satisfied: certifi in /usr/local/lib/python3.10/dist-packages (from httpx~=0.27->python-telegram-bot) (2024.6.2)\n",
            "Collecting httpcore==1.* (from httpx~=0.27->python-telegram-bot)\n",
            "  Downloading httpcore-1.0.5-py3-none-any.whl (77 kB)\n",
            "\u001b[2K     \u001b[90m━━━━━━━━━━━━━━━━━━━━━━━━━━━━━━━━━━━━━━━━\u001b[0m \u001b[32m77.9/77.9 kB\u001b[0m \u001b[31m6.2 MB/s\u001b[0m eta \u001b[36m0:00:00\u001b[0m\n",
            "\u001b[?25hRequirement already satisfied: idna in /usr/local/lib/python3.10/dist-packages (from httpx~=0.27->python-telegram-bot) (3.7)\n",
            "Requirement already satisfied: sniffio in /usr/local/lib/python3.10/dist-packages (from httpx~=0.27->python-telegram-bot) (1.3.1)\n",
            "Collecting h11<0.15,>=0.13 (from httpcore==1.*->httpx~=0.27->python-telegram-bot)\n",
            "  Downloading h11-0.14.0-py3-none-any.whl (58 kB)\n",
            "\u001b[2K     \u001b[90m━━━━━━━━━━━━━━━━━━━━━━━━━━━━━━━━━━━━━━━━\u001b[0m \u001b[32m58.3/58.3 kB\u001b[0m \u001b[31m5.6 MB/s\u001b[0m eta \u001b[36m0:00:00\u001b[0m\n",
            "\u001b[?25hRequirement already satisfied: charset-normalizer<4,>=2 in /usr/local/lib/python3.10/dist-packages (from requests<3.0.0,>=2.0.0->wikipedia) (3.3.2)\n",
            "Requirement already satisfied: urllib3<3,>=1.21.1 in /usr/local/lib/python3.10/dist-packages (from requests<3.0.0,>=2.0.0->wikipedia) (2.0.7)\n",
            "Requirement already satisfied: soupsieve>1.2 in /usr/local/lib/python3.10/dist-packages (from beautifulsoup4->wikipedia) (2.5)\n",
            "Requirement already satisfied: exceptiongroup in /usr/local/lib/python3.10/dist-packages (from anyio->httpx~=0.27->python-telegram-bot) (1.2.1)\n",
            "Building wheels for collected packages: wikipedia\n",
            "  Building wheel for wikipedia (setup.py) ... \u001b[?25l\u001b[?25hdone\n",
            "  Created wheel for wikipedia: filename=wikipedia-1.4.0-py3-none-any.whl size=11680 sha256=e43b33d50cb6a450ca722c1a28b326250f42d41d6d4e4b1389039f6f1d79ab94\n",
            "  Stored in directory: /root/.cache/pip/wheels/5e/b6/c5/93f3dec388ae76edc830cb42901bb0232504dfc0df02fc50de\n",
            "Successfully built wikipedia\n",
            "Installing collected packages: pyngrok, h11, wikipedia, httpcore, httpx, python-telegram-bot\n",
            "Successfully installed h11-0.14.0 httpcore-1.0.5 httpx-0.27.0 pyngrok-7.1.6 python-telegram-bot-21.2 wikipedia-1.4.0\n"
          ]
        }
      ],
      "source": [
        "!pip install python-telegram-bot wikipedia scikit-learn pyngrok"
      ]
    },
    {
      "cell_type": "code",
      "execution_count": 4,
      "metadata": {
        "id": "b82LFihGeksq"
      },
      "outputs": [],
      "source": [
        "import logging\n",
        "from telegram import Update, ForceReply\n",
        "from telegram.ext import Application, CommandHandler, MessageHandler, filters, ConversationHandler, CallbackContext\n",
        "import wikipedia\n",
        "import nest_asyncio\n",
        "import asyncio\n",
        "\n",
        "logging.basicConfig(\n",
        "    format='%(asctime)s - %(name)s - %(levelname)s - %(message)s',\n",
        "    level=logging.INFO\n",
        ")\n",
        "\n",
        "logger = logging.getLogger(__name__)\n",
        "\n",
        "wikipedia.set_lang(\"pt\")\n",
        "\n",
        "CHOOSING, SYMPTOMS = range(2)\n",
        "\n",
        "\n",
        "async def start(update: Update, context: CallbackContext) -> int:\n",
        "    user = update.effective_user\n",
        "    await update.message.reply_html(\n",
        "        rf'Olá {user.mention_html()}! Eu sou um bot que pode ajudar com diagnósticos. Escolha uma categoria:'\n",
        "        '\\n1 - Dengue\\n'\n",
        "        '2 - Covid\\n'\n",
        "        '3 - Listar meus sintomas\\n'\n",
        "        'Digite /cancel para encerrar a conversa para qualquer conversa.',\n",
        "        reply_markup=ForceReply(selective=True),\n",
        "    )\n",
        "    return CHOOSING\n",
        "\n",
        "async def choose_category(update: Update, context: CallbackContext) -> int:\n",
        "    user_text = update.message.text\n",
        "    if user_text == '1':\n",
        "        summary = wikipedia.summary('Dengue', sentences=2, auto_suggest=False)\n",
        "        await update.message.reply_text(f'{summary}\\n\\nEscolha uma opção:\\n3 - Listar meus sintomas\\nDigite /cancel para encerrar a conversa a qualquer momento')\n",
        "        return CHOOSING\n",
        "    elif user_text == '2':\n",
        "        summary = wikipedia.summary('COVID-19', sentences=2, auto_suggest=False)\n",
        "        await update.message.reply_text(f'{summary}\\n\\nEscolha uma opção:\\n3 - Listar meus sintomas\\nDigite /cancel para encerrar a conversa a qualquer momento')\n",
        "        return CHOOSING\n",
        "    elif user_text == '3':\n",
        "        await update.message.reply_text('Por favor, liste seus sintomas, separados por \"-\".')\n",
        "        return SYMPTOMS\n",
        "    else:\n",
        "        await update.message.reply_text('Escolha inválida. Por favor, escolha novamente:\\n1 - Dengue\\n2 - Covid\\n3 - Listar meus sintomas')\n",
        "        return CHOOSING\n",
        "\n",
        "async def list_symptoms(update: Update, context: CallbackContext) -> int:\n",
        "    user_symptoms = update.message.text.lower().split('-')\n",
        "    user_symptoms = {symptom.strip() for symptom in user_symptoms}\n",
        "\n",
        "    dengue_symptoms = {'febre alta', 'dor de cabeça', 'dor atrás dos olhos', 'dor nas articulações', 'erupção cutânea'}\n",
        "    covid_symptoms = {'febre', 'tosse', 'falta de ar', 'perda de paladar', 'perda de olfato'}\n",
        "\n",
        "    dengue_count = len(dengue_symptoms.intersection(user_symptoms))\n",
        "    covid_count = len(covid_symptoms.intersection(user_symptoms))\n",
        "\n",
        "    if dengue_count > covid_count:\n",
        "        await update.message.reply_text('Baseado nos seus sintomas, é mais provável que seja Dengue.\\nPor favor não se apoie apenas nestes diagnósticos, sempre consulte um médico para maior confirmação.\\n\\nEscolha outra opção: \\n1 - Dengue\\n2 - Covid\\n3 - Listar meus sintomas.\\nDigite /cancel para encerrar a conversa.')\n",
        "    elif covid_count > dengue_count:\n",
        "        await update.message.reply_text('Baseado nos seus sintomas, é mais provável que seja COVID-19.\\nPor favor não se apoie apenas nestes diagnósticos, sempre consulte um médico para maior confirmação.\\n\\nEscolha outra opção: \\n1 - Dengue\\n2 - Covid\\n3 - Listar meus sintomas.\\nDigite /cancel para encerrar a conversa.')\n",
        "    else:\n",
        "        await update.message.reply_text('Não é possível determinar com clareza a partir desta lisatgem. Consulte um médico para melhor compreensão.')\n",
        "\n",
        "    return ConversationHandler.END\n",
        "\n",
        "async def cancel(update: Update, context: CallbackContext) -> int:\n",
        "    user = update.effective_user\n",
        "    await update.message.reply_html(\n",
        "        rf'Adeus {user.mention_html()}! Espero ter ajudado.',\n",
        "    )\n",
        "    return ConversationHandler.END\n",
        "\n",
        "def main() -> None:\n",
        "    nest_asyncio.apply()\n",
        "\n",
        "    application = Application.builder().token(\"7102326706:AAG3HsnTjzCNVClOSE9QpeDPz_IwDCtxjAo\").build()\n",
        "\n",
        "    conv_handler = ConversationHandler(\n",
        "        entry_points=[CommandHandler('start', start)],\n",
        "        states={\n",
        "            CHOOSING: [MessageHandler(filters.TEXT & ~filters.COMMAND, choose_category)],\n",
        "            SYMPTOMS: [MessageHandler(filters.TEXT & ~filters.COMMAND, list_symptoms)],\n",
        "        },\n",
        "        fallbacks=[CommandHandler('cancel', cancel)],\n",
        "    )\n",
        "\n",
        "    application.add_handler(conv_handler)\n",
        "    application.run_polling()\n"
      ]
    },
    {
      "cell_type": "code",
      "execution_count": null,
      "metadata": {
        "collapsed": true,
        "id": "THFvO6gWIpm3"
      },
      "outputs": [],
      "source": [
        "if __name__ == '__main__':\n",
        "    asyncio.run(main())"
      ]
    }
  ],
  "metadata": {
    "colab": {
      "provenance": []
    },
    "kernelspec": {
      "display_name": "Python 3",
      "name": "python3"
    },
    "language_info": {
      "name": "python"
    }
  },
  "nbformat": 4,
  "nbformat_minor": 0
}
